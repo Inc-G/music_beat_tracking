{
 "cells": [
  {
   "cell_type": "code",
   "execution_count": 1,
   "id": "2e4927ce",
   "metadata": {},
   "outputs": [],
   "source": [
    "import matplotlib\n",
    "import matplotlib.pyplot as plt\n",
    "\n",
    "import librosa, librosa.display\n",
    "import soundfile as sf\n",
    "\n",
    "import numpy as np\n",
    "import pandas as pd\n",
    "\n",
    "import IPython.display as ipd\n",
    "\n",
    "import os\n",
    "import shutil\n",
    "import pickle \n",
    "\n"
   ]
  },
  {
   "cell_type": "markdown",
   "id": "b67c3fd1",
   "metadata": {},
   "source": [
    "need to change directory: cd BallroomData/"
   ]
  },
  {
   "cell_type": "markdown",
   "id": "3fdc72a0",
   "metadata": {},
   "source": [
    "### Put all the songs in a folder"
   ]
  },
  {
   "cell_type": "markdown",
   "id": "fc55fcfc",
   "metadata": {},
   "source": [
    "In BallroomData, creates a folder all_songs with all the songs"
   ]
  },
  {
   "cell_type": "code",
   "execution_count": 5,
   "id": "8c0990e8",
   "metadata": {},
   "outputs": [
    {
     "name": "stdout",
     "output_type": "stream",
     "text": [
      "Folder all_songs with all the songs already created\n"
     ]
    }
   ],
   "source": [
    "folders = [_+'/' for _ in os.listdir() if _ != '.DS_Store' and _!='allBallroomFiles' and _!='nada']\n",
    "try:\n",
    "    os.makedirs('all_songs')\n",
    "    \n",
    "    for folder in folders:\n",
    "        all_files_in_folder = os.listdir(folder)\n",
    "        for file in all_files_in_folder:\n",
    "            #print(folder + file)\n",
    "            shutil.copy(folder + file, 'all_songs/')\n",
    "except:\n",
    "    print('Folder all_songs with all the songs already created')\n",
    "        "
   ]
  },
  {
   "cell_type": "markdown",
   "id": "66c27148",
   "metadata": {},
   "source": [
    "# Target variable"
   ]
  },
  {
   "cell_type": "markdown",
   "id": "0bcb6673",
   "metadata": {},
   "source": [
    "Get the target variable from the folder BallroomAnnotations-master"
   ]
  },
  {
   "cell_type": "code",
   "execution_count": 6,
   "id": "64c4c15f",
   "metadata": {},
   "outputs": [],
   "source": [
    "# Get the names of the songs in the folder\n",
    "names_songs_in_annotations = set(os.listdir('BallroomAnnotations-master/'))\n",
    "names_songs_in_annotations.remove('README.md')\n",
    "names_songs = []\n",
    "for _ in names_songs_in_annotations:\n",
    "    names_songs.append(_[:-6])\n",
    "    "
   ]
  },
  {
   "cell_type": "markdown",
   "id": "e3ea3d37",
   "metadata": {},
   "source": [
    "#### Creates four dictionaries:\n",
    "temps: (name of the song) --> times in seconds which have a beat\n",
    "\n",
    "frames: (name of the song) --> frames which have a beat\n",
    "\n",
    "time_first_beat: (name of the song) --> times in seconds which has the first beat. Sampling rate is 22050\n",
    "\n",
    "frame_first_beat: (name of the song) --> frame which has the first beat. Sampling rate is 22050"
   ]
  },
  {
   "cell_type": "code",
   "execution_count": 7,
   "id": "72e4cfa1",
   "metadata": {},
   "outputs": [],
   "source": [
    "## Creates three dictionaries:\n",
    "#temps: (name of the song) --> times in seconds which have a beat\n",
    "#frames: (name of the song) --> frames which have a beat\n",
    "#time_first_beat: (name of the song) --> times in seconds which has the first beat. Sampling rate is 22050\n",
    "#frame_first_beat: (name of the song) --> frame which has the first beat. Sampling rate is 22050\n",
    "\n",
    "SAMPLING_RATE = 22016 #divisible by 512, so that the conversion to mel spectrogram is more even\n",
    "\n",
    "temps = {}\n",
    "frames = {}\n",
    "time_first_beat = {}\n",
    "frame_first_beat = {}\n",
    "\n",
    "\n",
    "for name in names_songs:\n",
    "    file = open('BallroomAnnotations-master/' + name + '.beats')\n",
    "    beats_in_seconds = file.read()\n",
    "    temps[name] = []    \n",
    "    first_beat_recorded = False\n",
    "    for time in beats_in_seconds.split('\\n'):        \n",
    "        if len(time) > 0:\n",
    "            temps[name].append(float(time[:-2]))\n",
    "            if not first_beat_recorded:\n",
    "                time_first_beat[name] = float(time[:-2])\n",
    "                first_beat_recorded = True\n",
    "    frames[name] = librosa.time_to_samples(temps[name], sr=SAMPLING_RATE)\n",
    "    frame_first_beat[name] = frames[name][0]\n",
    "    "
   ]
  },
  {
   "cell_type": "markdown",
   "id": "e1b1a069",
   "metadata": {},
   "source": [
    "## Inspect the first beats"
   ]
  },
  {
   "cell_type": "markdown",
   "id": "16dac79c",
   "metadata": {},
   "source": [
    "Inspect the data to see when the first beat happens"
   ]
  },
  {
   "cell_type": "code",
   "execution_count": 8,
   "id": "9dde889d",
   "metadata": {},
   "outputs": [
    {
     "data": {
      "text/html": [
       "<div>\n",
       "<style scoped>\n",
       "    .dataframe tbody tr th:only-of-type {\n",
       "        vertical-align: middle;\n",
       "    }\n",
       "\n",
       "    .dataframe tbody tr th {\n",
       "        vertical-align: top;\n",
       "    }\n",
       "\n",
       "    .dataframe thead th {\n",
       "        text-align: right;\n",
       "    }\n",
       "</style>\n",
       "<table border=\"1\" class=\"dataframe\">\n",
       "  <thead>\n",
       "    <tr style=\"text-align: right;\">\n",
       "      <th></th>\n",
       "      <th>time</th>\n",
       "      <th>frame</th>\n",
       "    </tr>\n",
       "  </thead>\n",
       "  <tbody>\n",
       "    <tr>\n",
       "      <th>count</th>\n",
       "      <td>698.000000</td>\n",
       "      <td>698.000000</td>\n",
       "    </tr>\n",
       "    <tr>\n",
       "      <th>mean</th>\n",
       "      <td>0.752263</td>\n",
       "      <td>16561.322350</td>\n",
       "    </tr>\n",
       "    <tr>\n",
       "      <th>std</th>\n",
       "      <td>1.747817</td>\n",
       "      <td>38479.948877</td>\n",
       "    </tr>\n",
       "    <tr>\n",
       "      <th>min</th>\n",
       "      <td>0.000000</td>\n",
       "      <td>0.000000</td>\n",
       "    </tr>\n",
       "    <tr>\n",
       "      <th>25%</th>\n",
       "      <td>0.060000</td>\n",
       "      <td>1320.000000</td>\n",
       "    </tr>\n",
       "    <tr>\n",
       "      <th>50%</th>\n",
       "      <td>0.249082</td>\n",
       "      <td>5483.500000</td>\n",
       "    </tr>\n",
       "    <tr>\n",
       "      <th>75%</th>\n",
       "      <td>0.656650</td>\n",
       "      <td>14456.250000</td>\n",
       "    </tr>\n",
       "    <tr>\n",
       "      <th>max</th>\n",
       "      <td>21.070000</td>\n",
       "      <td>463877.000000</td>\n",
       "    </tr>\n",
       "  </tbody>\n",
       "</table>\n",
       "</div>"
      ],
      "text/plain": [
       "             time          frame\n",
       "count  698.000000     698.000000\n",
       "mean     0.752263   16561.322350\n",
       "std      1.747817   38479.948877\n",
       "min      0.000000       0.000000\n",
       "25%      0.060000    1320.000000\n",
       "50%      0.249082    5483.500000\n",
       "75%      0.656650   14456.250000\n",
       "max     21.070000  463877.000000"
      ]
     },
     "execution_count": 8,
     "metadata": {},
     "output_type": "execute_result"
    }
   ],
   "source": [
    "first_beats = pd.DataFrame([list(time_first_beat.values()), list(frame_first_beat.values())],\n",
    "                           columns=time_first_beat.keys(), index=['time','frame']).transpose()\n",
    "first_beats.describe()"
   ]
  },
  {
   "cell_type": "code",
   "execution_count": 9,
   "id": "5d056243",
   "metadata": {},
   "outputs": [
    {
     "data": {
      "image/png": "[encoded data removed]",
      "text/plain": [
       "<Figure size 1200x600 with 2 Axes>"
      ]
     },
     "metadata": {},
     "output_type": "display_data"
    }
   ],
   "source": [
    "fig, axes = plt.subplots(nrows=2)\n",
    "\n",
    "first_beats[['time']].plot(ax=axes[0], figsize=(12,6))\n",
    "axes[0].set_xticks([])\n",
    "\n",
    "first_beats[['frame']].plot(ax=axes[1], figsize=(12,6))\n",
    "axes[1].set_xticks([])\n",
    "\n",
    "plt.show()"
   ]
  },
  {
   "cell_type": "markdown",
   "id": "dce25ada",
   "metadata": {},
   "source": [
    "As expected, the two plots look similar: the frame when the first beat happens, and the time when the first beat happens."
   ]
  },
  {
   "cell_type": "markdown",
   "id": "1eeea0e2",
   "metadata": {},
   "source": [
    "## Begin each song from the first beat"
   ]
  },
  {
   "cell_type": "markdown",
   "id": "f8bf3109",
   "metadata": {},
   "source": [
    "Makes the folder all_songs_from_first_beat, where all the songs in all_songs are trimmed so that they begin from the first beat"
   ]
  },
  {
   "cell_type": "code",
   "execution_count": 10,
   "id": "8bb217ae",
   "metadata": {},
   "outputs": [],
   "source": [
    "try:\n",
    "    os.makedirs('all_songs_from_first_beat')\n",
    "    \n",
    "    for song in os.listdir('all_songs/'):\n",
    "        if song[-3:] =='wav':\n",
    "            _, sr__ = librosa.load('all_songs/' + song, sr=SAMPLING_RATE)\n",
    "            \n",
    "            sf.write('all_songs_from_first_beat/'+ song, _[frame_first_beat[song[:-4]]:], sr__)\n",
    "        else:\n",
    "            print('!! There was a file not ending in .wav !!')\n",
    "            print('This was the file: '+song)\n",
    "\n",
    "except:\n",
    "    print('already created the directory all_songs_from_first_beat')\n"
   ]
  },
  {
   "cell_type": "markdown",
   "id": "4a21b5e3",
   "metadata": {},
   "source": [
    "## Edit target beats to reflect that each songs in all_songs_from_first_beat begin with the firts beat"
   ]
  },
  {
   "cell_type": "code",
   "execution_count": 11,
   "id": "f2676829",
   "metadata": {},
   "outputs": [],
   "source": [
    "frames_starting_from_first_beat = {}\n",
    "\n",
    "for song in frames.keys():\n",
    "    frames_starting_from_first_beat[song] = [_ - frame_first_beat[song] for _ in frames[song]]\n",
    "    "
   ]
  },
  {
   "cell_type": "markdown",
   "id": "4b3970ec",
   "metadata": {},
   "source": [
    "# Get length of each song"
   ]
  },
  {
   "cell_type": "code",
   "execution_count": 12,
   "id": "b346c10f",
   "metadata": {},
   "outputs": [
    {
     "name": "stdout",
     "output_type": "stream",
     "text": [
      "                0\n",
      "count  698.000000\n",
      "mean    30.527934\n",
      "std      1.863898\n",
      "min     10.717978\n",
      "25%     29.980026\n",
      "50%     31.192996\n",
      "75%     31.707985\n",
      "max     33.712300\n"
     ]
    },
    {
     "data": {
      "text/html": [
       "<div>\n",
       "<style scoped>\n",
       "    .dataframe tbody tr th:only-of-type {\n",
       "        vertical-align: middle;\n",
       "    }\n",
       "\n",
       "    .dataframe tbody tr th {\n",
       "        vertical-align: top;\n",
       "    }\n",
       "\n",
       "    .dataframe thead th {\n",
       "        text-align: right;\n",
       "    }\n",
       "</style>\n",
       "<table border=\"1\" class=\"dataframe\">\n",
       "  <thead>\n",
       "    <tr style=\"text-align: right;\">\n",
       "      <th></th>\n",
       "      <th>0</th>\n",
       "    </tr>\n",
       "  </thead>\n",
       "  <tbody>\n",
       "  </tbody>\n",
       "</table>\n",
       "</div>"
      ],
      "text/plain": [
       "Empty DataFrame\n",
       "Columns: [0]\n",
       "Index: []"
      ]
     },
     "execution_count": 12,
     "metadata": {},
     "output_type": "execute_result"
    }
   ],
   "source": [
    "duration_songs = {}\n",
    "for song in os.listdir('all_songs_from_first_beat/'):\n",
    "    audio, _ = librosa.load('all_songs_from_first_beat/' + song,\n",
    "                         sr=SAMPLING_RATE)\n",
    "    duration_songs[song[:-4]] = librosa.get_duration(y=audio, sr=SAMPLING_RATE)\n",
    "\n",
    "lengths_df = pd.DataFrame(duration_songs.values(), index=duration_songs.keys())\n",
    "print(lengths_df.describe())\n",
    "\n",
    "first_beats['length_song'] = lengths_df\n",
    "first_beats.sort_index(inplace=True)\n",
    "lengths_df.sort_index(inplace=True)\n",
    "lengths_df[first_beats['length_song'] != lengths_df[0]]"
   ]
  },
  {
   "cell_type": "markdown",
   "id": "4d0eae03",
   "metadata": {},
   "source": [
    "## Trim songs to up to 29 seconds"
   ]
  },
  {
   "cell_type": "markdown",
   "id": "dc51bbbf",
   "metadata": {},
   "source": [
    "From the previous cell, most of the songs last at least 29 seconds. So to have an uniforma dataset, we trim the songs to last at most 29 seconds, and we add them to a folder named all_songs_up_to_29_secs."
   ]
  },
  {
   "cell_type": "code",
   "execution_count": 13,
   "id": "e1d2d48e",
   "metadata": {},
   "outputs": [],
   "source": [
    "try:\n",
    "    os.makedirs('all_songs_up_to_29_secs')\n",
    "    \n",
    "    for song in os.listdir('all_songs_from_first_beat/'):\n",
    "        if song[-3:] =='wav':\n",
    "            _, sr__ = librosa.load('all_songs_from_first_beat/' + song, sr=SAMPLING_RATE)\n",
    "            \n",
    "            sf.write('all_songs_up_to_29_secs/'+ song, _[:SAMPLING_RATE*29], SAMPLING_RATE)\n",
    "        else:\n",
    "            print('!! There was a file not ending in .wav !!')\n",
    "            print('This was the file: '+song)\n",
    "\n",
    "except:\n",
    "    print('already created the directory all_songs_up_to_29_secs')"
   ]
  },
  {
   "cell_type": "markdown",
   "id": "9f850735",
   "metadata": {},
   "source": [
    "## Edit target beats to reflect that each songs in all_songs_up_to_29_secs end at 29 secs"
   ]
  },
  {
   "cell_type": "code",
   "execution_count": 14,
   "id": "07291244",
   "metadata": {},
   "outputs": [],
   "source": [
    "frames_ending_at_29_secs = {}\n",
    "\n",
    "for song in frames_starting_from_first_beat.keys():\n",
    "    f = np.array(frames_starting_from_first_beat[song])\n",
    "    frames_ending_at_29_secs[song] = f[f<SAMPLING_RATE*29].copy()\n",
    "    "
   ]
  },
  {
   "cell_type": "markdown",
   "id": "a50aeced",
   "metadata": {},
   "source": [
    "# X variable: get mel spectrograms"
   ]
  },
  {
   "cell_type": "markdown",
   "id": "c69dcdcd",
   "metadata": {},
   "source": [
    "Get the mel spectrogram for each song"
   ]
  },
  {
   "cell_type": "code",
   "execution_count": 15,
   "id": "3d3a1092",
   "metadata": {},
   "outputs": [],
   "source": [
    "MEL_SAMPLING_RATE = int(SAMPLING_RATE/512) #=43\n",
    "\n",
    "all_mels = {}\n",
    "\n",
    "for name_song in os.listdir('all_songs_up_to_29_secs/'):\n",
    "    audio, _ = librosa.load('all_songs_up_to_29_secs/' + name_song,\n",
    "                            sr=SAMPLING_RATE)\n",
    "    S_original_audio = librosa.feature.melspectrogram(y=audio, sr=SAMPLING_RATE, n_mels=128)\n",
    "    db_spectrogram = librosa.power_to_db(S_original_audio, ref=np.max)\n",
    "    first_derivative = librosa.feature.delta(db_spectrogram)\n",
    "    \n",
    "    all_mels[name_song[:-4]] = np.concatenate((db_spectrogram, first_derivative))\n",
    "    "
   ]
  },
  {
   "cell_type": "code",
   "execution_count": 16,
   "id": "8599d2b7",
   "metadata": {},
   "outputs": [],
   "source": [
    "#with open('mels.pkl', 'wb') as f:\n",
    "    #pickle.dump(all_mels, f)\n",
    "    \n",
    "#with open('mels.pkl', 'rb') as f:\n",
    "    #loaded_dict = pickle.load(f)"
   ]
  },
  {
   "cell_type": "markdown",
   "id": "e1dab30d",
   "metadata": {},
   "source": [
    "## Convert frames with beat to reflect the shape of mel spectrogram"
   ]
  },
  {
   "cell_type": "markdown",
   "id": "013cd229",
   "metadata": {},
   "source": [
    "The frequency of the mel spectrogram is different than the sampling rate, so below we detect which frame in the mel spectrogram has a beat"
   ]
  },
  {
   "cell_type": "code",
   "execution_count": 17,
   "id": "80f232fb",
   "metadata": {},
   "outputs": [],
   "source": [
    "frames_with_beat = {}\n",
    "\n",
    "for song in frames_ending_at_29_secs.keys():\n",
    "    times = librosa.frames_to_time(frames_ending_at_29_secs[song], sr=SAMPLING_RATE)\n",
    "    new_frames = librosa.time_to_frames(times, sr=MEL_SAMPLING_RATE)\n",
    "    frames_with_beat[song] = new_frames\n",
    "    "
   ]
  },
  {
   "cell_type": "markdown",
   "id": "1746b7fb",
   "metadata": {},
   "source": [
    "### OH encode the beats which have a frame"
   ]
  },
  {
   "cell_type": "code",
   "execution_count": 18,
   "id": "2166db7a",
   "metadata": {},
   "outputs": [],
   "source": [
    "frames_with_beat_encoded = {}\n",
    "\n",
    "for song in frames_ending_at_29_secs.keys():\n",
    "    zeros = np.zeros(all_mels[song].shape[1])\n",
    "    for beat in frames_with_beat[song]:\n",
    "        zeros[beat] = 1\n",
    "    frames_with_beat_encoded[song] = zeros\n",
    "    \n",
    "    "
   ]
  },
  {
   "cell_type": "markdown",
   "id": "7b3b8d64",
   "metadata": {},
   "source": [
    "Run the following cell for a safety check"
   ]
  },
  {
   "cell_type": "code",
   "execution_count": null,
   "id": "6036ec32",
   "metadata": {},
   "outputs": [],
   "source": [
    "for song in frames_ending_at_29_secs.keys():\n",
    "    if frames_with_beat_encoded[song].sum() != len(frames_with_beat[song]):\n",
    "        print('!!!!!!!!!!!!!!!!!!!!!!!!!!!!!!!!!!!!!!!!!!!!!!!!!!!!')\n",
    "        print(song)\n",
    "        print('!!!!!!!!!!!!!!!!!!!!!!!!!!!!!!!!!!!!!!!!!!!!!!!!!!!!')\n",
    "    else:\n",
    "        print(song +' is okay')"
   ]
  },
  {
   "cell_type": "markdown",
   "id": "51ad1af5",
   "metadata": {},
   "source": [
    "# Create train and test dataset"
   ]
  },
  {
   "cell_type": "code",
   "execution_count": 20,
   "id": "e0f47b5b",
   "metadata": {},
   "outputs": [
    {
     "data": {
      "text/plain": [
       "109"
      ]
     },
     "execution_count": 20,
     "metadata": {},
     "output_type": "execute_result"
    }
   ],
   "source": [
    "num_test_songs = first_beats.shape[0]//4\n",
    "num_short_songs = first_beats[first_beats['length_song']<=29].shape[0]\n",
    "num_remaining_songs = num_test_songs - num_short_songs\n",
    "\n",
    "num_remaining_songs"
   ]
  },
  {
   "cell_type": "code",
   "execution_count": 21,
   "id": "919abfd3",
   "metadata": {},
   "outputs": [],
   "source": [
    "#long_test_songs = np.random.choice(np.array(first_beats[first_beats['length_song']>29].index), num_remaining_songs, False)\n"
   ]
  },
  {
   "cell_type": "code",
   "execution_count": 22,
   "id": "85876204",
   "metadata": {},
   "outputs": [
    {
     "name": "stdout",
     "output_type": "stream",
     "text": [
      "174\n"
     ]
    }
   ],
   "source": [
    "test_songs = list(long_test_songs) + list(first_beats[first_beats['length_song']<=29].index)\n",
    "test_songs = list(set(test_songs))\n",
    "print(len(test_songs))"
   ]
  },
  {
   "cell_type": "code",
   "execution_count": 23,
   "id": "82bcc767",
   "metadata": {},
   "outputs": [],
   "source": [
    "train_songs = list(set(first_beats.index).difference(set(test_songs)))"
   ]
  },
  {
   "cell_type": "code",
   "execution_count": 24,
   "id": "411b9a01",
   "metadata": {},
   "outputs": [],
   "source": [
    "try:\n",
    "    os.makedirs('songs_train')\n",
    "    os.makedirs('songs_test')\n",
    "\n",
    "    for song in train_songs:\n",
    "        song = song+'.wav'\n",
    "        shutil.copyfile('all_songs_up_to_29_secs/'+song, 'songs_train/' + song)\n",
    "    \n",
    "    for song in test_songs:\n",
    "        song = song+'.wav'\n",
    "        shutil.copyfile('all_songs_up_to_29_secs/'+song, 'songs_test/' + song)\n",
    "except:\n",
    "    print('already created songs_train and/or songs_test')\n",
    "    "
   ]
  },
  {
   "cell_type": "markdown",
   "id": "e599c4ef",
   "metadata": {},
   "source": [
    "### Safety check"
   ]
  },
  {
   "cell_type": "code",
   "execution_count": 25,
   "id": "59402ecf",
   "metadata": {},
   "outputs": [],
   "source": [
    "for song in os.listdir('songs_train/'):\n",
    "    audio, _ = librosa.load('songs_train/' + song,\n",
    "                         sr=SAMPLING_RATE)\n",
    "    if 29 != librosa.get_duration(y=audio, sr=SAMPLING_RATE):\n",
    "        print('Something is off! Check song '+ song)\n",
    "\n",
    "    "
   ]
  },
  {
   "cell_type": "code",
   "execution_count": 26,
   "id": "ae3a09d2",
   "metadata": {},
   "outputs": [
    {
     "name": "stdout",
     "output_type": "stream",
     "text": [
      "len(os.listdir(\"songs_train/\")):  524\n",
      "len(os.listdir(\"songs_test/\")):  174\n"
     ]
    }
   ],
   "source": [
    "print('len(os.listdir(\"songs_train/\")): ', len(os.listdir('songs_train/')))\n",
    "print('len(os.listdir(\"songs_test/\")): ', len(os.listdir('songs_test/')))"
   ]
  },
  {
   "cell_type": "markdown",
   "id": "60afb19b",
   "metadata": {},
   "source": [
    "## Get MEL for training and test"
   ]
  },
  {
   "cell_type": "code",
   "execution_count": 27,
   "id": "100865cd",
   "metadata": {},
   "outputs": [
    {
     "name": "stdout",
     "output_type": "stream",
     "text": [
      "len(mels_train.keys()):  524\n",
      "len(mels_test.keys()):  174\n"
     ]
    }
   ],
   "source": [
    "mels_train = {}\n",
    "mels_test = {}\n",
    "\n",
    "for song in os.listdir('songs_train/'):\n",
    "    mels_train[song[:-4]] = all_mels[song[:-4]]\n",
    "    \n",
    "for song in os.listdir('songs_test/'):\n",
    "    mels_test[song[:-4]] = all_mels[song[:-4]]\n",
    "    \n",
    "print('len(mels_train.keys()): ', len(mels_train.keys()))\n",
    "print('len(mels_test.keys()): ', len(mels_test.keys()))"
   ]
  },
  {
   "cell_type": "markdown",
   "id": "91ec36e5",
   "metadata": {},
   "source": [
    "### Training input"
   ]
  },
  {
   "cell_type": "code",
   "execution_count": 28,
   "id": "244ec402",
   "metadata": {},
   "outputs": [
    {
     "name": "stdout",
     "output_type": "stream",
     "text": [
      "(524, 256, 1248)\n"
     ]
    }
   ],
   "source": [
    "training_input = np.stack([_ for _ in mels_train.values()])\n",
    "print(training_input.shape)\n"
   ]
  },
  {
   "cell_type": "code",
   "execution_count": 29,
   "id": "9e75c474",
   "metadata": {},
   "outputs": [],
   "source": [
    "np.save('songs_train/training_input.npy', training_input) \n"
   ]
  },
  {
   "cell_type": "markdown",
   "id": "6bad0f20",
   "metadata": {},
   "source": [
    "### Training target"
   ]
  },
  {
   "cell_type": "code",
   "execution_count": 30,
   "id": "7de11d28",
   "metadata": {},
   "outputs": [
    {
     "name": "stdout",
     "output_type": "stream",
     "text": [
      "(524, 1248)\n"
     ]
    }
   ],
   "source": [
    "training_target = np.stack([frames_with_beat_encoded[song] for song in mels_train.keys()])\n",
    "print(training_target.shape)"
   ]
  },
  {
   "cell_type": "code",
   "execution_count": 31,
   "id": "f8790ed8",
   "metadata": {},
   "outputs": [],
   "source": [
    "np.save('songs_train/training_target.npy', training_target)"
   ]
  },
  {
   "cell_type": "markdown",
   "id": "eef097a2",
   "metadata": {},
   "source": [
    "## Save all mels and all targets"
   ]
  },
  {
   "cell_type": "markdown",
   "id": "7bead4f3",
   "metadata": {},
   "source": [
    "Creates a folder all_songs_and_targets_encoded where we save all mels"
   ]
  },
  {
   "cell_type": "code",
   "execution_count": 32,
   "id": "c95ee662",
   "metadata": {},
   "outputs": [
    {
     "name": "stdout",
     "output_type": "stream",
     "text": [
      "Saved all mels\n",
      "Saved all targets\n"
     ]
    }
   ],
   "source": [
    "os.makedirs('all_songs_and_targets_encoded/')\n",
    "with open('all_songs_and_targets_encoded/mels.pkl', 'wb') as f:\n",
    "    pickle.dump(all_mels, f)\n",
    "    \n",
    "print('Saved all mels')\n",
    "    \n",
    "with open('all_songs_and_targets_encoded/targets.pkl', 'wb') as f:\n",
    "    pickle.dump(frames_with_beat_encoded, f)\n",
    "\n",
    "print('Saved all targets')\n"
   ]
  },
  {
   "cell_type": "code",
   "execution_count": 33,
   "id": "f3dfbea0",
   "metadata": {},
   "outputs": [],
   "source": [
    "#with open('all_songs_and_targets_encoded/mels.pkl', 'rb') as f:\n",
    "    #loaded_dict = pickle.load(f)"
   ]
  },
  {
   "cell_type": "markdown",
   "id": "ce57d743",
   "metadata": {},
   "source": [
    "### Test inputs"
   ]
  },
  {
   "cell_type": "code",
   "execution_count": 34,
   "id": "ccc530d3",
   "metadata": {},
   "outputs": [
    {
     "data": {
      "text/plain": [
       "109"
      ]
     },
     "execution_count": 34,
     "metadata": {},
     "output_type": "execute_result"
    }
   ],
   "source": [
    "long_test_songs = {}\n",
    "\n",
    "for song in list(mels_test.keys()):\n",
    "    if mels_test[song].shape[1] == 1248:\n",
    "        long_test_songs[song] = mels_test[song]\n",
    "\n",
    "len(list(long_test_songs.keys()))      "
   ]
  },
  {
   "cell_type": "code",
   "execution_count": 35,
   "id": "a3dfc2b8",
   "metadata": {},
   "outputs": [
    {
     "name": "stdout",
     "output_type": "stream",
     "text": [
      "(109, 256, 1248)\n"
     ]
    }
   ],
   "source": [
    "test_input = np.stack([_ for _ in long_test_songs.values()])\n",
    "print(test_input.shape)"
   ]
  },
  {
   "cell_type": "code",
   "execution_count": 36,
   "id": "a552a40a",
   "metadata": {},
   "outputs": [],
   "source": [
    "np.save('songs_test/test_input.npy', test_input)"
   ]
  },
  {
   "cell_type": "markdown",
   "id": "8877f1e4",
   "metadata": {},
   "source": [
    "### Test target"
   ]
  },
  {
   "cell_type": "code",
   "execution_count": 37,
   "id": "3ae3fe41",
   "metadata": {},
   "outputs": [
    {
     "name": "stdout",
     "output_type": "stream",
     "text": [
      "(109, 1248)\n"
     ]
    }
   ],
   "source": [
    "test_target = np.stack([frames_with_beat_encoded[song] for song in long_test_songs.keys()])\n",
    "print(test_target.shape)"
   ]
  },
  {
   "cell_type": "code",
   "execution_count": 38,
   "id": "1623ebcc",
   "metadata": {},
   "outputs": [],
   "source": [
    "np.save('songs_test/test_target.npy', test_target)"
   ]
  },
  {
   "cell_type": "markdown",
   "id": "2e42c25b",
   "metadata": {},
   "source": [
    "## Apply min-max scaler to the data"
   ]
  },
  {
   "cell_type": "markdown",
   "id": "f81fb02e",
   "metadata": {},
   "source": [
    "Inspecting the data (for example, plotting a histogram with all the frequencies in the dataset) we see that the data is a mixture of two gaussians. We reshape the data with min-max scaler and we square each entry, so that the mean of the first gaussian is <.5 and the mean of the second one is > .5.\n",
    "\n",
    "This might help the model to learn faster.\n",
    "\n",
    "We save the transformed data in transformed_inputs_test.npy and transformed_inputs.npy."
   ]
  },
  {
   "cell_type": "code",
   "execution_count": null,
   "id": "89b2942f",
   "metadata": {},
   "outputs": [],
   "source": [
    "## better to do minmax scaler from how the data is distributed\n",
    "\n",
    "MIN = -81\n",
    "MAX = 13\n",
    "\n",
    "def square(x):\n",
    "    return x*x\n",
    "\n",
    "vec_square = np.vectorize(square)\n",
    "\n",
    "transformed_inputs = vec_square((np.load('songs_train/training_input.npy') - MIN)/(MAX - MIN))\n",
    "transformed_inputs_test = vec_square((np.load('songs_test/test_input.npy') - MIN)/(MAX - MIN))\n",
    "\n",
    "np.save('songs_test/transformed_inputs_test.npy', transformed_inputs_test)\n",
    "np.save('songs_train/transformed_inputs.npy', transformed_inputs)"
   ]
  }
 ],
 "metadata": {
  "kernelspec": {
   "display_name": "Python 3 (ipykernel)",
   "language": "python",
   "name": "python3"
  },
  "language_info": {
   "codemirror_mode": {
    "name": "ipython",
    "version": 3
   },
   "file_extension": ".py",
   "mimetype": "text/x-python",
   "name": "python",
   "nbconvert_exporter": "python",
   "pygments_lexer": "ipython3",
   "version": "3.11.3"
  }
 },
 "nbformat": 4,
 "nbformat_minor": 5
}
