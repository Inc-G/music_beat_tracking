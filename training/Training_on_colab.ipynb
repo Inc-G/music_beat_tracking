{
 "cells": [
  {
   "cell_type": "code",
   "execution_count": null,
   "id": "74c8c171",
   "metadata": {},
   "outputs": [],
   "source": [
    "import os\n",
    "from google.colab import drive\n",
    "drive.mount('/content/drive')"
   ]
  },
  {
   "cell_type": "code",
   "execution_count": null,
   "id": "44999a48",
   "metadata": {},
   "outputs": [],
   "source": [
    "cd drive/MyDrive/beat_tracking/"
   ]
  },
  {
   "cell_type": "markdown",
   "id": "097ab8b4",
   "metadata": {},
   "source": [
    "Please move to the folder beat_tracking the modules used for training (those in the training folder),\n",
    "Create the folders songs_test and songs_train\n",
    "\n",
    "move in songs_test contains test_target.npy,  transformed_inputs_test.npy, test_target_ballroom.npy, transformed_inputs_test_ballroom.npy\n",
    "Check that songs_train contains training_target.npy, transformed_inputs.npy, transformed_inputs_ballroom.npy and training_target_ballroom.npy\n",
    "\n",
    "Only if all the above hodls, and you are using the GPU, execute the next cell"
   ]
  },
  {
   "cell_type": "code",
   "execution_count": null,
   "id": "4ecc4de8",
   "metadata": {},
   "outputs": [],
   "source": [
    "import main\n",
    "main.training_loop(epochs=300)"
   ]
  }
 ],
 "metadata": {
  "kernelspec": {
   "display_name": "Python 3 (ipykernel)",
   "language": "python",
   "name": "python3"
  },
  "language_info": {
   "codemirror_mode": {
    "name": "ipython",
    "version": 3
   },
   "file_extension": ".py",
   "mimetype": "text/x-python",
   "name": "python",
   "nbconvert_exporter": "python",
   "pygments_lexer": "ipython3",
   "version": "3.11.3"
  }
 },
 "nbformat": 4,
 "nbformat_minor": 5
}
